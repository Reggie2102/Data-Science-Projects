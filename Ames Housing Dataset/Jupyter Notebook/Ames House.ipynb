{
  "nbformat": 4,
  "nbformat_minor": 0,
  "metadata": {
    "colab": {
      "provenance": []
    },
    "kernelspec": {
      "name": "python3",
      "display_name": "Python 3"
    },
    "language_info": {
      "name": "python"
    }
  },
  "cells": [
    {
      "cell_type": "code",
      "execution_count": 2,
      "metadata": {
        "colab": {
          "base_uri": "https://localhost:8080/",
          "height": 108
        },
        "id": "pDjPTtIGQWs_",
        "outputId": "7fd5aac3-7b54-4b90-b5d5-28d15115ff54"
      },
      "outputs": [
        {
          "output_type": "display_data",
          "data": {
            "text/plain": [
              "<IPython.core.display.HTML object>"
            ],
            "text/html": [
              "\n",
              "     <input type=\"file\" id=\"files-f6fb5cd9-a3bc-40c9-86b5-e7aad4763676\" name=\"files[]\" multiple disabled\n",
              "        style=\"border:none\" />\n",
              "     <output id=\"result-f6fb5cd9-a3bc-40c9-86b5-e7aad4763676\">\n",
              "      Upload widget is only available when the cell has been executed in the\n",
              "      current browser session. Please rerun this cell to enable.\n",
              "      </output>\n",
              "      <script>// Copyright 2017 Google LLC\n",
              "//\n",
              "// Licensed under the Apache License, Version 2.0 (the \"License\");\n",
              "// you may not use this file except in compliance with the License.\n",
              "// You may obtain a copy of the License at\n",
              "//\n",
              "//      http://www.apache.org/licenses/LICENSE-2.0\n",
              "//\n",
              "// Unless required by applicable law or agreed to in writing, software\n",
              "// distributed under the License is distributed on an \"AS IS\" BASIS,\n",
              "// WITHOUT WARRANTIES OR CONDITIONS OF ANY KIND, either express or implied.\n",
              "// See the License for the specific language governing permissions and\n",
              "// limitations under the License.\n",
              "\n",
              "/**\n",
              " * @fileoverview Helpers for google.colab Python module.\n",
              " */\n",
              "(function(scope) {\n",
              "function span(text, styleAttributes = {}) {\n",
              "  const element = document.createElement('span');\n",
              "  element.textContent = text;\n",
              "  for (const key of Object.keys(styleAttributes)) {\n",
              "    element.style[key] = styleAttributes[key];\n",
              "  }\n",
              "  return element;\n",
              "}\n",
              "\n",
              "// Max number of bytes which will be uploaded at a time.\n",
              "const MAX_PAYLOAD_SIZE = 100 * 1024;\n",
              "\n",
              "function _uploadFiles(inputId, outputId) {\n",
              "  const steps = uploadFilesStep(inputId, outputId);\n",
              "  const outputElement = document.getElementById(outputId);\n",
              "  // Cache steps on the outputElement to make it available for the next call\n",
              "  // to uploadFilesContinue from Python.\n",
              "  outputElement.steps = steps;\n",
              "\n",
              "  return _uploadFilesContinue(outputId);\n",
              "}\n",
              "\n",
              "// This is roughly an async generator (not supported in the browser yet),\n",
              "// where there are multiple asynchronous steps and the Python side is going\n",
              "// to poll for completion of each step.\n",
              "// This uses a Promise to block the python side on completion of each step,\n",
              "// then passes the result of the previous step as the input to the next step.\n",
              "function _uploadFilesContinue(outputId) {\n",
              "  const outputElement = document.getElementById(outputId);\n",
              "  const steps = outputElement.steps;\n",
              "\n",
              "  const next = steps.next(outputElement.lastPromiseValue);\n",
              "  return Promise.resolve(next.value.promise).then((value) => {\n",
              "    // Cache the last promise value to make it available to the next\n",
              "    // step of the generator.\n",
              "    outputElement.lastPromiseValue = value;\n",
              "    return next.value.response;\n",
              "  });\n",
              "}\n",
              "\n",
              "/**\n",
              " * Generator function which is called between each async step of the upload\n",
              " * process.\n",
              " * @param {string} inputId Element ID of the input file picker element.\n",
              " * @param {string} outputId Element ID of the output display.\n",
              " * @return {!Iterable<!Object>} Iterable of next steps.\n",
              " */\n",
              "function* uploadFilesStep(inputId, outputId) {\n",
              "  const inputElement = document.getElementById(inputId);\n",
              "  inputElement.disabled = false;\n",
              "\n",
              "  const outputElement = document.getElementById(outputId);\n",
              "  outputElement.innerHTML = '';\n",
              "\n",
              "  const pickedPromise = new Promise((resolve) => {\n",
              "    inputElement.addEventListener('change', (e) => {\n",
              "      resolve(e.target.files);\n",
              "    });\n",
              "  });\n",
              "\n",
              "  const cancel = document.createElement('button');\n",
              "  inputElement.parentElement.appendChild(cancel);\n",
              "  cancel.textContent = 'Cancel upload';\n",
              "  const cancelPromise = new Promise((resolve) => {\n",
              "    cancel.onclick = () => {\n",
              "      resolve(null);\n",
              "    };\n",
              "  });\n",
              "\n",
              "  // Wait for the user to pick the files.\n",
              "  const files = yield {\n",
              "    promise: Promise.race([pickedPromise, cancelPromise]),\n",
              "    response: {\n",
              "      action: 'starting',\n",
              "    }\n",
              "  };\n",
              "\n",
              "  cancel.remove();\n",
              "\n",
              "  // Disable the input element since further picks are not allowed.\n",
              "  inputElement.disabled = true;\n",
              "\n",
              "  if (!files) {\n",
              "    return {\n",
              "      response: {\n",
              "        action: 'complete',\n",
              "      }\n",
              "    };\n",
              "  }\n",
              "\n",
              "  for (const file of files) {\n",
              "    const li = document.createElement('li');\n",
              "    li.append(span(file.name, {fontWeight: 'bold'}));\n",
              "    li.append(span(\n",
              "        `(${file.type || 'n/a'}) - ${file.size} bytes, ` +\n",
              "        `last modified: ${\n",
              "            file.lastModifiedDate ? file.lastModifiedDate.toLocaleDateString() :\n",
              "                                    'n/a'} - `));\n",
              "    const percent = span('0% done');\n",
              "    li.appendChild(percent);\n",
              "\n",
              "    outputElement.appendChild(li);\n",
              "\n",
              "    const fileDataPromise = new Promise((resolve) => {\n",
              "      const reader = new FileReader();\n",
              "      reader.onload = (e) => {\n",
              "        resolve(e.target.result);\n",
              "      };\n",
              "      reader.readAsArrayBuffer(file);\n",
              "    });\n",
              "    // Wait for the data to be ready.\n",
              "    let fileData = yield {\n",
              "      promise: fileDataPromise,\n",
              "      response: {\n",
              "        action: 'continue',\n",
              "      }\n",
              "    };\n",
              "\n",
              "    // Use a chunked sending to avoid message size limits. See b/62115660.\n",
              "    let position = 0;\n",
              "    do {\n",
              "      const length = Math.min(fileData.byteLength - position, MAX_PAYLOAD_SIZE);\n",
              "      const chunk = new Uint8Array(fileData, position, length);\n",
              "      position += length;\n",
              "\n",
              "      const base64 = btoa(String.fromCharCode.apply(null, chunk));\n",
              "      yield {\n",
              "        response: {\n",
              "          action: 'append',\n",
              "          file: file.name,\n",
              "          data: base64,\n",
              "        },\n",
              "      };\n",
              "\n",
              "      let percentDone = fileData.byteLength === 0 ?\n",
              "          100 :\n",
              "          Math.round((position / fileData.byteLength) * 100);\n",
              "      percent.textContent = `${percentDone}% done`;\n",
              "\n",
              "    } while (position < fileData.byteLength);\n",
              "  }\n",
              "\n",
              "  // All done.\n",
              "  yield {\n",
              "    response: {\n",
              "      action: 'complete',\n",
              "    }\n",
              "  };\n",
              "}\n",
              "\n",
              "scope.google = scope.google || {};\n",
              "scope.google.colab = scope.google.colab || {};\n",
              "scope.google.colab._files = {\n",
              "  _uploadFiles,\n",
              "  _uploadFilesContinue,\n",
              "};\n",
              "})(self);\n",
              "</script> "
            ]
          },
          "metadata": {}
        },
        {
          "output_type": "stream",
          "name": "stdout",
          "text": [
            "Saving Housing dataset 1.1.csv to Housing dataset 1.1.csv\n",
            "Saving Housing dataset 1.2.csv to Housing dataset 1.2.csv\n"
          ]
        }
      ],
      "source": [
        "# Import Libraries\n",
        "import pandas as pd\n",
        "import numpy as np\n",
        "from google.colab import files\n",
        "\n",
        "# Upload and Load Data\n",
        "uploaded = files.upload()\n",
        "file_name = list(uploaded.keys())[0]\n",
        "df = pd.read_csv(file_name)"
      ]
    },
    {
      "cell_type": "code",
      "source": [
        "# Shape and first 5 rows\n",
        "print(f\"Shape: {df.shape}\")\n",
        "print(df.head())\n",
        "\n",
        "# Data types\n",
        "print(\"\\n Data Types \")\n",
        "print(df.dtypes)\n",
        "\n",
        "# Missing values\n",
        "print(\"\\n Missing Values \")\n",
        "print(df.isnull().sum())\n",
        "\n",
        "# Descriptive statistics\n",
        "print(\"\\n Descriptive Statistics \")\n",
        "print(df.describe(include='all'))"
      ],
      "metadata": {
        "colab": {
          "base_uri": "https://localhost:8080/"
        },
        "id": "rwv5DnYRRTei",
        "outputId": "48e085c8-8b03-440c-aa3f-ad28b92fd8d4"
      },
      "execution_count": 3,
      "outputs": [
        {
          "output_type": "stream",
          "name": "stdout",
          "text": [
            "Shape: (1459, 80)\n",
            "     Id  MSSubClass MSZoning  LotFrontage  LotArea Street Alley LotShape  \\\n",
            "0  1461          20       RH         80.0    11622   Pave   NaN      Reg   \n",
            "1  1462          20       RL         81.0    14267   Pave   NaN      IR1   \n",
            "2  1463          60       RL         74.0    13830   Pave   NaN      IR1   \n",
            "3  1464          60       RL         78.0     9978   Pave   NaN      IR1   \n",
            "4  1465         120       RL         43.0     5005   Pave   NaN      IR1   \n",
            "\n",
            "  LandContour Utilities  ... ScreenPorch PoolArea PoolQC  Fence MiscFeature  \\\n",
            "0         Lvl    AllPub  ...         120        0    NaN  MnPrv         NaN   \n",
            "1         Lvl    AllPub  ...           0        0    NaN    NaN        Gar2   \n",
            "2         Lvl    AllPub  ...           0        0    NaN  MnPrv         NaN   \n",
            "3         Lvl    AllPub  ...           0        0    NaN    NaN         NaN   \n",
            "4         HLS    AllPub  ...         144        0    NaN    NaN         NaN   \n",
            "\n",
            "  MiscVal MoSold  YrSold  SaleType  SaleCondition  \n",
            "0       0      6    2010        WD         Normal  \n",
            "1   12500      6    2010        WD         Normal  \n",
            "2       0      3    2010        WD         Normal  \n",
            "3       0      6    2010        WD         Normal  \n",
            "4       0      1    2010        WD         Normal  \n",
            "\n",
            "[5 rows x 80 columns]\n",
            "\n",
            " Data Types \n",
            "Id                 int64\n",
            "MSSubClass         int64\n",
            "MSZoning          object\n",
            "LotFrontage      float64\n",
            "LotArea            int64\n",
            "                  ...   \n",
            "MiscVal            int64\n",
            "MoSold             int64\n",
            "YrSold             int64\n",
            "SaleType          object\n",
            "SaleCondition     object\n",
            "Length: 80, dtype: object\n",
            "\n",
            " Missing Values \n",
            "Id                 0\n",
            "MSSubClass         0\n",
            "MSZoning           4\n",
            "LotFrontage      227\n",
            "LotArea            0\n",
            "                ... \n",
            "MiscVal            0\n",
            "MoSold             0\n",
            "YrSold             0\n",
            "SaleType           1\n",
            "SaleCondition      0\n",
            "Length: 80, dtype: int64\n",
            "\n",
            " Descriptive Statistics \n",
            "                 Id   MSSubClass MSZoning  LotFrontage       LotArea Street  \\\n",
            "count   1459.000000  1459.000000     1455  1232.000000   1459.000000   1459   \n",
            "unique          NaN          NaN        5          NaN           NaN      2   \n",
            "top             NaN          NaN       RL          NaN           NaN   Pave   \n",
            "freq            NaN          NaN     1114          NaN           NaN   1453   \n",
            "mean    2190.000000    57.378341      NaN    68.580357   9819.161069    NaN   \n",
            "std      421.321334    42.746880      NaN    22.376841   4955.517327    NaN   \n",
            "min     1461.000000    20.000000      NaN    21.000000   1470.000000    NaN   \n",
            "25%     1825.500000    20.000000      NaN    58.000000   7391.000000    NaN   \n",
            "50%     2190.000000    50.000000      NaN    67.000000   9399.000000    NaN   \n",
            "75%     2554.500000    70.000000      NaN    80.000000  11517.500000    NaN   \n",
            "max     2919.000000   190.000000      NaN   200.000000  56600.000000    NaN   \n",
            "\n",
            "       Alley LotShape LandContour Utilities  ...  ScreenPorch     PoolArea  \\\n",
            "count    107     1459        1459      1457  ...  1459.000000  1459.000000   \n",
            "unique     2        4           4         1  ...          NaN          NaN   \n",
            "top     Grvl      Reg         Lvl    AllPub  ...          NaN          NaN   \n",
            "freq      70      934        1311      1457  ...          NaN          NaN   \n",
            "mean     NaN      NaN         NaN       NaN  ...    17.064428     1.744345   \n",
            "std      NaN      NaN         NaN       NaN  ...    56.609763    30.491646   \n",
            "min      NaN      NaN         NaN       NaN  ...     0.000000     0.000000   \n",
            "25%      NaN      NaN         NaN       NaN  ...     0.000000     0.000000   \n",
            "50%      NaN      NaN         NaN       NaN  ...     0.000000     0.000000   \n",
            "75%      NaN      NaN         NaN       NaN  ...     0.000000     0.000000   \n",
            "max      NaN      NaN         NaN       NaN  ...   576.000000   800.000000   \n",
            "\n",
            "       PoolQC  Fence MiscFeature       MiscVal       MoSold       YrSold  \\\n",
            "count       3    290          51   1459.000000  1459.000000  1459.000000   \n",
            "unique      2      4           3           NaN          NaN          NaN   \n",
            "top        Ex  MnPrv        Shed           NaN          NaN          NaN   \n",
            "freq        2    172          46           NaN          NaN          NaN   \n",
            "mean      NaN    NaN         NaN     58.167923     6.104181  2007.769705   \n",
            "std       NaN    NaN         NaN    630.806978     2.722432     1.301740   \n",
            "min       NaN    NaN         NaN      0.000000     1.000000  2006.000000   \n",
            "25%       NaN    NaN         NaN      0.000000     4.000000  2007.000000   \n",
            "50%       NaN    NaN         NaN      0.000000     6.000000  2008.000000   \n",
            "75%       NaN    NaN         NaN      0.000000     8.000000  2009.000000   \n",
            "max       NaN    NaN         NaN  17000.000000    12.000000  2010.000000   \n",
            "\n",
            "        SaleType  SaleCondition  \n",
            "count       1458           1459  \n",
            "unique         9              6  \n",
            "top           WD         Normal  \n",
            "freq        1258           1204  \n",
            "mean         NaN            NaN  \n",
            "std          NaN            NaN  \n",
            "min          NaN            NaN  \n",
            "25%          NaN            NaN  \n",
            "50%          NaN            NaN  \n",
            "75%          NaN            NaN  \n",
            "max          NaN            NaN  \n",
            "\n",
            "[11 rows x 80 columns]\n"
          ]
        }
      ]
    },
    {
      "cell_type": "code",
      "source": [
        "df1 = pd.read_csv('Housing dataset 1.1.csv')\n",
        "df2 = pd.read_csv('Housing dataset 1.2.csv')\n",
        "df = pd.concat([df1, df2], axis=0).reset_index(drop=True)\n",
        "\n",
        "print(f\"Combined shape: {df.shape}\")"
      ],
      "metadata": {
        "colab": {
          "base_uri": "https://localhost:8080/"
        },
        "id": "E99fP3rMRTh0",
        "outputId": "357f3dc3-046e-4d04-b1ed-1882e23bc580"
      },
      "execution_count": 4,
      "outputs": [
        {
          "output_type": "stream",
          "name": "stdout",
          "text": [
            "Combined shape: (2919, 81)\n"
          ]
        }
      ]
    },
    {
      "cell_type": "code",
      "source": [
        "print(df.isnull().sum().sort_values(ascending=False).head(20))"
      ],
      "metadata": {
        "colab": {
          "base_uri": "https://localhost:8080/"
        },
        "id": "Zz_YpJ90RTk1",
        "outputId": "29ccd8f0-c209-4890-bf6a-d2cae5c6e4d8"
      },
      "execution_count": 5,
      "outputs": [
        {
          "output_type": "stream",
          "name": "stdout",
          "text": [
            "PoolQC          2909\n",
            "MiscFeature     2814\n",
            "Alley           2721\n",
            "Fence           2348\n",
            "MasVnrType      1766\n",
            "SalePrice       1459\n",
            "FireplaceQu     1420\n",
            "LotFrontage      486\n",
            "GarageCond       159\n",
            "GarageYrBlt      159\n",
            "GarageFinish     159\n",
            "GarageQual       159\n",
            "GarageType       157\n",
            "BsmtExposure      82\n",
            "BsmtCond          82\n",
            "BsmtQual          81\n",
            "BsmtFinType2      80\n",
            "BsmtFinType1      79\n",
            "MasVnrArea        23\n",
            "MSZoning           4\n",
            "dtype: int64\n"
          ]
        }
      ]
    },
    {
      "cell_type": "code",
      "source": [
        "# Columns to drop\n",
        "cols_to_drop = ['PoolQC', 'MiscFeature', 'Alley', 'Fence', 'FireplaceQu',\n",
        "                'LotFrontage', 'Id']\n",
        "df = df.drop(columns=cols_to_drop)\n",
        "\n",
        "# Missing categorical data\n",
        "categorical_cols = df.select_dtypes(include='object').columns\n",
        "for col in categorical_cols:\n",
        "    mode_val = df[col].mode()[0]\n",
        "    df[col] = df[col].fillna(mode_val)\n",
        "\n",
        "# Missing numeric data\n",
        "numeric_cols = df.select_dtypes(include=['int64','float64']).columns\n",
        "for col in numeric_cols:\n",
        "    median_val = df[col].median()\n",
        "    df[col] = df[col].fillna(median_val)\n"
      ],
      "metadata": {
        "id": "jBInly7qRTnc"
      },
      "execution_count": 7,
      "outputs": []
    },
    {
      "cell_type": "code",
      "source": [
        "df = df[df['LotArea'] > 0]\n",
        "df = df[df['YearBuilt'] > 1800]\n",
        "df = df[df['GarageYrBlt'] > 1800]\n",
        "\n",
        "# outliers\n",
        "df['LotArea'] = df['LotArea'].clip(upper=30000)\n",
        "df['GrLivArea'] = df['GrLivArea'].clip(upper=4000)"
      ],
      "metadata": {
        "id": "OpleSZZ-RTqQ"
      },
      "execution_count": 8,
      "outputs": []
    },
    {
      "cell_type": "code",
      "source": [
        "\n",
        "# 6. Clean Categorical Data\n",
        "for col in categorical_cols:\n",
        "    counts = df[col].value_counts()\n",
        "    rare_categories = counts[counts < 10].index\n",
        "    df[col] = df[col].replace(rare_categories, 'Other')\n",
        "\n",
        "# Convert binary categories to 0/1\n",
        "binary_cols = ['Street', 'CentralAir']\n",
        "for col in binary_cols:\n",
        "    df[col] = df[col].map({'Pave': 1, 'Grvl': 0, 'Y': 1, 'N': 0})"
      ],
      "metadata": {
        "id": "kWdWGzUnRTtB"
      },
      "execution_count": 9,
      "outputs": []
    },
    {
      "cell_type": "code",
      "source": [
        "current_year = pd.to_datetime('now').year\n",
        "df['HouseAge'] = current_year - df['YearBuilt']\n",
        "df['TotalBath'] = df['FullBath'] + 0.5*df['HalfBath']\n",
        "df['TotalSF'] = df['GrLivArea'] + df['TotalBsmtSF']"
      ],
      "metadata": {
        "id": "lQyfIRA6RTvt"
      },
      "execution_count": 10,
      "outputs": []
    },
    {
      "cell_type": "code",
      "source": [
        "print(\"\\nMissing Values After Cleaning:\")\n",
        "print(df.isnull().sum().sum())\n",
        "\n",
        "print(\"\\nFinal Data Types:\")\n",
        "print(df.dtypes.value_counts())"
      ],
      "metadata": {
        "colab": {
          "base_uri": "https://localhost:8080/"
        },
        "id": "mnKmQA_xRTzI",
        "outputId": "3159c212-6898-4373-f886-c111f9a0c2e6"
      },
      "execution_count": 11,
      "outputs": [
        {
          "output_type": "stream",
          "name": "stdout",
          "text": [
            "\n",
            "Missing Values After Cleaning:\n",
            "0\n",
            "\n",
            "Final Data Types:\n",
            "object     36\n",
            "int64      28\n",
            "float64    13\n",
            "Name: count, dtype: int64\n"
          ]
        }
      ]
    },
    {
      "cell_type": "code",
      "source": [
        "# Save Cleaned Data\n",
        "df.to_csv('cleaned combined housing data.csv', index=False)\n",
        "files.download('cleaned combined housing data.csv')"
      ],
      "metadata": {
        "colab": {
          "base_uri": "https://localhost:8080/",
          "height": 17
        },
        "id": "-HOK6VPpTiX1",
        "outputId": "09c4225a-629a-484f-8328-e59a1e22dee4"
      },
      "execution_count": 12,
      "outputs": [
        {
          "output_type": "display_data",
          "data": {
            "text/plain": [
              "<IPython.core.display.Javascript object>"
            ],
            "application/javascript": [
              "\n",
              "    async function download(id, filename, size) {\n",
              "      if (!google.colab.kernel.accessAllowed) {\n",
              "        return;\n",
              "      }\n",
              "      const div = document.createElement('div');\n",
              "      const label = document.createElement('label');\n",
              "      label.textContent = `Downloading \"${filename}\": `;\n",
              "      div.appendChild(label);\n",
              "      const progress = document.createElement('progress');\n",
              "      progress.max = size;\n",
              "      div.appendChild(progress);\n",
              "      document.body.appendChild(div);\n",
              "\n",
              "      const buffers = [];\n",
              "      let downloaded = 0;\n",
              "\n",
              "      const channel = await google.colab.kernel.comms.open(id);\n",
              "      // Send a message to notify the kernel that we're ready.\n",
              "      channel.send({})\n",
              "\n",
              "      for await (const message of channel.messages) {\n",
              "        // Send a message to notify the kernel that we're ready.\n",
              "        channel.send({})\n",
              "        if (message.buffers) {\n",
              "          for (const buffer of message.buffers) {\n",
              "            buffers.push(buffer);\n",
              "            downloaded += buffer.byteLength;\n",
              "            progress.value = downloaded;\n",
              "          }\n",
              "        }\n",
              "      }\n",
              "      const blob = new Blob(buffers, {type: 'application/binary'});\n",
              "      const a = document.createElement('a');\n",
              "      a.href = window.URL.createObjectURL(blob);\n",
              "      a.download = filename;\n",
              "      div.appendChild(a);\n",
              "      a.click();\n",
              "      div.remove();\n",
              "    }\n",
              "  "
            ]
          },
          "metadata": {}
        },
        {
          "output_type": "display_data",
          "data": {
            "text/plain": [
              "<IPython.core.display.Javascript object>"
            ],
            "application/javascript": [
              "download(\"download_d47df337-cd4c-4fd8-96a0-2ea0b4a31ecc\", \"cleaned combined housing data.csv\", 956304)"
            ]
          },
          "metadata": {}
        }
      ]
    }
  ]
}