{
  "nbformat": 4,
  "nbformat_minor": 0,
  "metadata": {
    "colab": {
      "provenance": []
    },
    "kernelspec": {
      "name": "python3",
      "display_name": "Python 3"
    },
    "language_info": {
      "name": "python"
    }
  },
  "cells": [
    {
      "cell_type": "code",
      "execution_count": 1,
      "metadata": {
        "id": "44VAbMGXCVoM"
      },
      "outputs": [],
      "source": [
        "# Import Libraries\n",
        "import pandas as pd\n",
        "import numpy as np\n",
        "from google.colab import files"
      ]
    },
    {
      "cell_type": "code",
      "source": [
        "# Upload and Load Data\n",
        "uploaded = files.upload()\n",
        "file_name = list(uploaded.keys())[0]\n",
        "df = pd.read_csv(file_name)"
      ],
      "metadata": {
        "colab": {
          "base_uri": "https://localhost:8080/",
          "height": 73
        },
        "id": "hpoP2eCrCWbZ",
        "outputId": "40cb37d6-5e72-485c-ed45-a6e42abbfca8"
      },
      "execution_count": 2,
      "outputs": [
        {
          "output_type": "display_data",
          "data": {
            "text/plain": [
              "<IPython.core.display.HTML object>"
            ],
            "text/html": [
              "\n",
              "     <input type=\"file\" id=\"files-16bd06dd-a21c-454c-8d59-4142b2718d6c\" name=\"files[]\" multiple disabled\n",
              "        style=\"border:none\" />\n",
              "     <output id=\"result-16bd06dd-a21c-454c-8d59-4142b2718d6c\">\n",
              "      Upload widget is only available when the cell has been executed in the\n",
              "      current browser session. Please rerun this cell to enable.\n",
              "      </output>\n",
              "      <script>// Copyright 2017 Google LLC\n",
              "//\n",
              "// Licensed under the Apache License, Version 2.0 (the \"License\");\n",
              "// you may not use this file except in compliance with the License.\n",
              "// You may obtain a copy of the License at\n",
              "//\n",
              "//      http://www.apache.org/licenses/LICENSE-2.0\n",
              "//\n",
              "// Unless required by applicable law or agreed to in writing, software\n",
              "// distributed under the License is distributed on an \"AS IS\" BASIS,\n",
              "// WITHOUT WARRANTIES OR CONDITIONS OF ANY KIND, either express or implied.\n",
              "// See the License for the specific language governing permissions and\n",
              "// limitations under the License.\n",
              "\n",
              "/**\n",
              " * @fileoverview Helpers for google.colab Python module.\n",
              " */\n",
              "(function(scope) {\n",
              "function span(text, styleAttributes = {}) {\n",
              "  const element = document.createElement('span');\n",
              "  element.textContent = text;\n",
              "  for (const key of Object.keys(styleAttributes)) {\n",
              "    element.style[key] = styleAttributes[key];\n",
              "  }\n",
              "  return element;\n",
              "}\n",
              "\n",
              "// Max number of bytes which will be uploaded at a time.\n",
              "const MAX_PAYLOAD_SIZE = 100 * 1024;\n",
              "\n",
              "function _uploadFiles(inputId, outputId) {\n",
              "  const steps = uploadFilesStep(inputId, outputId);\n",
              "  const outputElement = document.getElementById(outputId);\n",
              "  // Cache steps on the outputElement to make it available for the next call\n",
              "  // to uploadFilesContinue from Python.\n",
              "  outputElement.steps = steps;\n",
              "\n",
              "  return _uploadFilesContinue(outputId);\n",
              "}\n",
              "\n",
              "// This is roughly an async generator (not supported in the browser yet),\n",
              "// where there are multiple asynchronous steps and the Python side is going\n",
              "// to poll for completion of each step.\n",
              "// This uses a Promise to block the python side on completion of each step,\n",
              "// then passes the result of the previous step as the input to the next step.\n",
              "function _uploadFilesContinue(outputId) {\n",
              "  const outputElement = document.getElementById(outputId);\n",
              "  const steps = outputElement.steps;\n",
              "\n",
              "  const next = steps.next(outputElement.lastPromiseValue);\n",
              "  return Promise.resolve(next.value.promise).then((value) => {\n",
              "    // Cache the last promise value to make it available to the next\n",
              "    // step of the generator.\n",
              "    outputElement.lastPromiseValue = value;\n",
              "    return next.value.response;\n",
              "  });\n",
              "}\n",
              "\n",
              "/**\n",
              " * Generator function which is called between each async step of the upload\n",
              " * process.\n",
              " * @param {string} inputId Element ID of the input file picker element.\n",
              " * @param {string} outputId Element ID of the output display.\n",
              " * @return {!Iterable<!Object>} Iterable of next steps.\n",
              " */\n",
              "function* uploadFilesStep(inputId, outputId) {\n",
              "  const inputElement = document.getElementById(inputId);\n",
              "  inputElement.disabled = false;\n",
              "\n",
              "  const outputElement = document.getElementById(outputId);\n",
              "  outputElement.innerHTML = '';\n",
              "\n",
              "  const pickedPromise = new Promise((resolve) => {\n",
              "    inputElement.addEventListener('change', (e) => {\n",
              "      resolve(e.target.files);\n",
              "    });\n",
              "  });\n",
              "\n",
              "  const cancel = document.createElement('button');\n",
              "  inputElement.parentElement.appendChild(cancel);\n",
              "  cancel.textContent = 'Cancel upload';\n",
              "  const cancelPromise = new Promise((resolve) => {\n",
              "    cancel.onclick = () => {\n",
              "      resolve(null);\n",
              "    };\n",
              "  });\n",
              "\n",
              "  // Wait for the user to pick the files.\n",
              "  const files = yield {\n",
              "    promise: Promise.race([pickedPromise, cancelPromise]),\n",
              "    response: {\n",
              "      action: 'starting',\n",
              "    }\n",
              "  };\n",
              "\n",
              "  cancel.remove();\n",
              "\n",
              "  // Disable the input element since further picks are not allowed.\n",
              "  inputElement.disabled = true;\n",
              "\n",
              "  if (!files) {\n",
              "    return {\n",
              "      response: {\n",
              "        action: 'complete',\n",
              "      }\n",
              "    };\n",
              "  }\n",
              "\n",
              "  for (const file of files) {\n",
              "    const li = document.createElement('li');\n",
              "    li.append(span(file.name, {fontWeight: 'bold'}));\n",
              "    li.append(span(\n",
              "        `(${file.type || 'n/a'}) - ${file.size} bytes, ` +\n",
              "        `last modified: ${\n",
              "            file.lastModifiedDate ? file.lastModifiedDate.toLocaleDateString() :\n",
              "                                    'n/a'} - `));\n",
              "    const percent = span('0% done');\n",
              "    li.appendChild(percent);\n",
              "\n",
              "    outputElement.appendChild(li);\n",
              "\n",
              "    const fileDataPromise = new Promise((resolve) => {\n",
              "      const reader = new FileReader();\n",
              "      reader.onload = (e) => {\n",
              "        resolve(e.target.result);\n",
              "      };\n",
              "      reader.readAsArrayBuffer(file);\n",
              "    });\n",
              "    // Wait for the data to be ready.\n",
              "    let fileData = yield {\n",
              "      promise: fileDataPromise,\n",
              "      response: {\n",
              "        action: 'continue',\n",
              "      }\n",
              "    };\n",
              "\n",
              "    // Use a chunked sending to avoid message size limits. See b/62115660.\n",
              "    let position = 0;\n",
              "    do {\n",
              "      const length = Math.min(fileData.byteLength - position, MAX_PAYLOAD_SIZE);\n",
              "      const chunk = new Uint8Array(fileData, position, length);\n",
              "      position += length;\n",
              "\n",
              "      const base64 = btoa(String.fromCharCode.apply(null, chunk));\n",
              "      yield {\n",
              "        response: {\n",
              "          action: 'append',\n",
              "          file: file.name,\n",
              "          data: base64,\n",
              "        },\n",
              "      };\n",
              "\n",
              "      let percentDone = fileData.byteLength === 0 ?\n",
              "          100 :\n",
              "          Math.round((position / fileData.byteLength) * 100);\n",
              "      percent.textContent = `${percentDone}% done`;\n",
              "\n",
              "    } while (position < fileData.byteLength);\n",
              "  }\n",
              "\n",
              "  // All done.\n",
              "  yield {\n",
              "    response: {\n",
              "      action: 'complete',\n",
              "    }\n",
              "  };\n",
              "}\n",
              "\n",
              "scope.google = scope.google || {};\n",
              "scope.google.colab = scope.google.colab || {};\n",
              "scope.google.colab._files = {\n",
              "  _uploadFiles,\n",
              "  _uploadFilesContinue,\n",
              "};\n",
              "})(self);\n",
              "</script> "
            ]
          },
          "metadata": {}
        },
        {
          "output_type": "stream",
          "name": "stdout",
          "text": [
            "Saving realtor-data.zip.csv to realtor-data.zip.csv\n"
          ]
        }
      ]
    },
    {
      "cell_type": "code",
      "source": [
        "# Shape and first 5 rows\n",
        "print(f\"Shape: {df.shape}\")\n",
        "print(df.head())\n",
        "\n",
        "# Data types\n",
        "print(\"\\n Data Types \")\n",
        "print(df.dtypes)\n",
        "\n",
        "#  Missing values\n",
        "print(\"\\n Missing Values \")\n",
        "print(df.isnull().sum())\n",
        "\n",
        "# Fourth output - Descriptive statistics\n",
        "print(\"\\n Descriptive Statistics\")\n",
        "print(df.describe(include='all'))"
      ],
      "metadata": {
        "colab": {
          "base_uri": "https://localhost:8080/"
        },
        "id": "IxDlFgzMCWf-",
        "outputId": "2e4e9fa3-2e97-4234-9ea8-1d83401b30a2"
      },
      "execution_count": 3,
      "outputs": [
        {
          "output_type": "stream",
          "name": "stdout",
          "text": [
            "Shape: (2226382, 12)\n",
            "   brokered_by    status     price  bed  bath  acre_lot     street  \\\n",
            "0     103378.0  for_sale  105000.0  3.0   2.0      0.12  1962661.0   \n",
            "1      52707.0  for_sale   80000.0  4.0   2.0      0.08  1902874.0   \n",
            "2     103379.0  for_sale   67000.0  2.0   1.0      0.15  1404990.0   \n",
            "3      31239.0  for_sale  145000.0  4.0   2.0      0.10  1947675.0   \n",
            "4      34632.0  for_sale   65000.0  6.0   2.0      0.05   331151.0   \n",
            "\n",
            "         city        state  zip_code  house_size prev_sold_date  \n",
            "0    Adjuntas  Puerto Rico     601.0       920.0            NaN  \n",
            "1    Adjuntas  Puerto Rico     601.0      1527.0            NaN  \n",
            "2  Juana Diaz  Puerto Rico     795.0       748.0            NaN  \n",
            "3       Ponce  Puerto Rico     731.0      1800.0            NaN  \n",
            "4    Mayaguez  Puerto Rico     680.0         NaN            NaN  \n",
            "\n",
            " Data Types \n",
            "brokered_by       float64\n",
            "status             object\n",
            "price             float64\n",
            "bed               float64\n",
            "bath              float64\n",
            "acre_lot          float64\n",
            "street            float64\n",
            "city               object\n",
            "state              object\n",
            "zip_code          float64\n",
            "house_size        float64\n",
            "prev_sold_date     object\n",
            "dtype: object\n",
            "\n",
            " Missing Values \n",
            "brokered_by         4533\n",
            "status                 0\n",
            "price               1541\n",
            "bed               481317\n",
            "bath              511771\n",
            "acre_lot          325589\n",
            "street             10866\n",
            "city                1407\n",
            "state                  8\n",
            "zip_code             299\n",
            "house_size        568484\n",
            "prev_sold_date    734297\n",
            "dtype: int64\n",
            "\n",
            " Descriptive Statistics\n",
            "         brokered_by    status         price           bed          bath  \\\n",
            "count   2.221849e+06   2226382  2.224841e+06  1.745065e+06  1.714611e+06   \n",
            "unique           NaN         3           NaN           NaN           NaN   \n",
            "top              NaN  for_sale           NaN           NaN           NaN   \n",
            "freq             NaN   1389306           NaN           NaN           NaN   \n",
            "mean    5.293989e+04       NaN  5.241955e+05  3.275841e+00  2.496440e+00   \n",
            "std     3.064275e+04       NaN  2.138893e+06  1.567274e+00  1.652573e+00   \n",
            "min     0.000000e+00       NaN  0.000000e+00  1.000000e+00  1.000000e+00   \n",
            "25%     2.386100e+04       NaN  1.650000e+05  3.000000e+00  2.000000e+00   \n",
            "50%     5.288400e+04       NaN  3.250000e+05  3.000000e+00  2.000000e+00   \n",
            "75%     7.918300e+04       NaN  5.500000e+05  4.000000e+00  3.000000e+00   \n",
            "max     1.101420e+05       NaN  2.147484e+09  4.730000e+02  8.300000e+02   \n",
            "\n",
            "            acre_lot        street     city    state      zip_code  \\\n",
            "count   1.900793e+06  2.215516e+06  2224975  2226374  2.226083e+06   \n",
            "unique           NaN           NaN    20098       55           NaN   \n",
            "top              NaN           NaN  Houston  Florida           NaN   \n",
            "freq             NaN           NaN    23862   249432           NaN   \n",
            "mean    1.522303e+01  1.012325e+06      NaN      NaN  5.218668e+04   \n",
            "std     7.628238e+02  5.837635e+05      NaN      NaN  2.895408e+04   \n",
            "min     0.000000e+00  0.000000e+00      NaN      NaN  0.000000e+00   \n",
            "25%     1.500000e-01  5.063128e+05      NaN      NaN  2.961700e+04   \n",
            "50%     2.600000e-01  1.012766e+06      NaN      NaN  4.838200e+04   \n",
            "75%     9.800000e-01  1.521173e+06      NaN      NaN  7.807000e+04   \n",
            "max     1.000000e+05  2.001357e+06      NaN      NaN  9.999900e+04   \n",
            "\n",
            "          house_size prev_sold_date  \n",
            "count   1.657898e+06        1492085  \n",
            "unique           NaN          14954  \n",
            "top              NaN     2022-03-31  \n",
            "freq             NaN          17171  \n",
            "mean    2.714471e+03            NaN  \n",
            "std     8.081635e+05            NaN  \n",
            "min     4.000000e+00            NaN  \n",
            "25%     1.300000e+03            NaN  \n",
            "50%     1.760000e+03            NaN  \n",
            "75%     2.413000e+03            NaN  \n",
            "max     1.040400e+09            NaN  \n"
          ]
        }
      ]
    },
    {
      "cell_type": "code",
      "source": [
        "# Handle Missing Values\n",
        "print(\"\\nMissing values before cleaning:\")\n",
        "print(df.isna().sum())\n",
        "\n",
        "# Fill missing categorical data\n",
        "df['state'] = df['state'].fillna('Unknown')\n",
        "df['city'] = df['city'].fillna('Unknown')\n",
        "\n",
        "# Fill numeric columns with median\n",
        "numeric_cols = ['brokered_by', 'price', 'bed', 'bath', 'acre_lot',\n",
        "                'street', 'zip_code', 'house_size']\n",
        "for col in numeric_cols:\n",
        "    df[col] = df[col].fillna(df[col].median())\n",
        "\n",
        "# Convert prev_sold_date to datetime and fill missing with distant past\n",
        "df['prev_sold_date'] = pd.to_datetime(df['prev_sold_date'], errors='coerce')\n",
        "df['prev_sold_date'] = df['prev_sold_date'].fillna(pd.to_datetime('1900-01-01'))"
      ],
      "metadata": {
        "colab": {
          "base_uri": "https://localhost:8080/"
        },
        "id": "dWZuBfMKCWiZ",
        "outputId": "56c32d0a-e2a8-4ab1-c37c-8c1fbd0baa30"
      },
      "execution_count": 4,
      "outputs": [
        {
          "output_type": "stream",
          "name": "stdout",
          "text": [
            "\n",
            "Missing values before cleaning:\n",
            "brokered_by         4533\n",
            "status                 0\n",
            "price               1541\n",
            "bed               481317\n",
            "bath              511771\n",
            "acre_lot          325589\n",
            "street             10866\n",
            "city                1407\n",
            "state                  8\n",
            "zip_code             299\n",
            "house_size        568484\n",
            "prev_sold_date    734297\n",
            "dtype: int64\n"
          ]
        }
      ]
    },
    {
      "cell_type": "code",
      "source": [
        "# Clean Outliers and Impossible Values\n",
        "# Remove rows with price = 0 or extremely high\n",
        "df = df[(df['price'] > 1000) & (df['price'] < 10_000_000)]\n",
        "\n",
        "# Cap unrealistic bedroom/bathroom counts\n",
        "df['bed'] = df['bed'].clip(1, 10)\n",
        "df['bath'] = df['bath'].clip(1, 8)\n",
        "\n",
        "# Remove properties with lot size > 1000 acres\n",
        "df = df[df['acre_lot'] <= 1000]\n"
      ],
      "metadata": {
        "id": "pQpdzpJ_CWk-"
      },
      "execution_count": 6,
      "outputs": []
    },
    {
      "cell_type": "code",
      "source": [
        "df['price_per_bed'] = df['price'] / df['bed']"
      ],
      "metadata": {
        "id": "yJDJ-IWdCWp9"
      },
      "execution_count": 7,
      "outputs": []
    },
    {
      "cell_type": "code",
      "source": [
        "current_year = pd.to_datetime('now').year\n",
        "df['years_since_last_sale'] = current_year - df['prev_sold_date'].dt.year"
      ],
      "metadata": {
        "id": "My_CUzRRCWtl"
      },
      "execution_count": 8,
      "outputs": []
    },
    {
      "cell_type": "code",
      "source": [
        "# Convert ID-like columns to integers\n",
        "df['brokered_by'] = df['brokered_by'].astype(int)\n",
        "df['street'] = df['street'].astype(int)\n",
        "\n",
        "# Convert zip_code to string with leading zeros\n",
        "df['zip_code'] = df['zip_code'].astype(int).astype(str).str.zfill(5)"
      ],
      "metadata": {
        "id": "WBVZsqvYCWxq"
      },
      "execution_count": 9,
      "outputs": []
    },
    {
      "cell_type": "code",
      "source": [
        "print(\"\\nMissing values after cleaning:\")\n",
        "print(df.isna().sum())\n",
        "print(f\"\\nFinal shape: {df.shape}\")\n",
        "print(\"\\nSample cleaned data:\")\n",
        "print(df.head())"
      ],
      "metadata": {
        "colab": {
          "base_uri": "https://localhost:8080/"
        },
        "id": "YE9cCJVCCW1A",
        "outputId": "610b34bc-1263-4a2e-d8d2-6748f99e0da2"
      },
      "execution_count": 10,
      "outputs": [
        {
          "output_type": "stream",
          "name": "stdout",
          "text": [
            "\n",
            "Missing values after cleaning:\n",
            "brokered_by              0\n",
            "status                   0\n",
            "price                    0\n",
            "bed                      0\n",
            "bath                     0\n",
            "acre_lot                 0\n",
            "street                   0\n",
            "city                     0\n",
            "state                    0\n",
            "zip_code                 0\n",
            "house_size               0\n",
            "prev_sold_date           0\n",
            "price_per_bed            0\n",
            "years_since_last_sale    0\n",
            "dtype: int64\n",
            "\n",
            "Final shape: (2219332, 14)\n",
            "\n",
            "Sample cleaned data:\n",
            "   brokered_by    status     price  bed  bath  acre_lot   street        city  \\\n",
            "0       103378  for_sale  105000.0  3.0   2.0      0.12  1962661    Adjuntas   \n",
            "1        52707  for_sale   80000.0  4.0   2.0      0.08  1902874    Adjuntas   \n",
            "2       103379  for_sale   67000.0  2.0   1.0      0.15  1404990  Juana Diaz   \n",
            "3        31239  for_sale  145000.0  4.0   2.0      0.10  1947675       Ponce   \n",
            "4        34632  for_sale   65000.0  6.0   2.0      0.05   331151    Mayaguez   \n",
            "\n",
            "         state zip_code  house_size prev_sold_date  price_per_bed  \\\n",
            "0  Puerto Rico    00601       920.0     1900-01-01   35000.000000   \n",
            "1  Puerto Rico    00601      1527.0     1900-01-01   20000.000000   \n",
            "2  Puerto Rico    00795       748.0     1900-01-01   33500.000000   \n",
            "3  Puerto Rico    00731      1800.0     1900-01-01   36250.000000   \n",
            "4  Puerto Rico    00680      1760.0     1900-01-01   10833.333333   \n",
            "\n",
            "   years_since_last_sale  \n",
            "0                    125  \n",
            "1                    125  \n",
            "2                    125  \n",
            "3                    125  \n",
            "4                    125  \n"
          ]
        }
      ]
    },
    {
      "cell_type": "code",
      "source": [
        "# 8. Save Cleaned Data\n",
        "clean_file = 'cleaned_housing_data.csv'\n",
        "df.to_csv(clean_file, index=False)\n",
        "files.download(clean_file)"
      ],
      "metadata": {
        "colab": {
          "base_uri": "https://localhost:8080/",
          "height": 17
        },
        "id": "7k91eqpICW4V",
        "outputId": "8ccf2726-ef0c-4c11-e6ce-3b79b5b97067"
      },
      "execution_count": 11,
      "outputs": [
        {
          "output_type": "display_data",
          "data": {
            "text/plain": [
              "<IPython.core.display.Javascript object>"
            ],
            "application/javascript": [
              "\n",
              "    async function download(id, filename, size) {\n",
              "      if (!google.colab.kernel.accessAllowed) {\n",
              "        return;\n",
              "      }\n",
              "      const div = document.createElement('div');\n",
              "      const label = document.createElement('label');\n",
              "      label.textContent = `Downloading \"${filename}\": `;\n",
              "      div.appendChild(label);\n",
              "      const progress = document.createElement('progress');\n",
              "      progress.max = size;\n",
              "      div.appendChild(progress);\n",
              "      document.body.appendChild(div);\n",
              "\n",
              "      const buffers = [];\n",
              "      let downloaded = 0;\n",
              "\n",
              "      const channel = await google.colab.kernel.comms.open(id);\n",
              "      // Send a message to notify the kernel that we're ready.\n",
              "      channel.send({})\n",
              "\n",
              "      for await (const message of channel.messages) {\n",
              "        // Send a message to notify the kernel that we're ready.\n",
              "        channel.send({})\n",
              "        if (message.buffers) {\n",
              "          for (const buffer of message.buffers) {\n",
              "            buffers.push(buffer);\n",
              "            downloaded += buffer.byteLength;\n",
              "            progress.value = downloaded;\n",
              "          }\n",
              "        }\n",
              "      }\n",
              "      const blob = new Blob(buffers, {type: 'application/binary'});\n",
              "      const a = document.createElement('a');\n",
              "      a.href = window.URL.createObjectURL(blob);\n",
              "      a.download = filename;\n",
              "      div.appendChild(a);\n",
              "      a.click();\n",
              "      div.remove();\n",
              "    }\n",
              "  "
            ]
          },
          "metadata": {}
        },
        {
          "output_type": "display_data",
          "data": {
            "text/plain": [
              "<IPython.core.display.Javascript object>"
            ],
            "application/javascript": [
              "download(\"download_a64d2673-fe28-401d-9933-98ee89cf776d\", \"cleaned_housing_data.csv\", 225144885)"
            ]
          },
          "metadata": {}
        }
      ]
    }
  ]
}