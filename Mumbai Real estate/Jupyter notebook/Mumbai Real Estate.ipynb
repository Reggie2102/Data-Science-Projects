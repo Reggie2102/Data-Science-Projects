{
  "nbformat": 4,
  "nbformat_minor": 0,
  "metadata": {
    "colab": {
      "provenance": []
    },
    "kernelspec": {
      "name": "python3",
      "display_name": "Python 3"
    },
    "language_info": {
      "name": "python"
    }
  },
  "cells": [
    {
      "cell_type": "code",
      "execution_count": 1,
      "metadata": {
        "colab": {
          "base_uri": "https://localhost:8080/",
          "height": 129
        },
        "id": "n2g-J7jLUMJD",
        "outputId": "960144c7-874c-46a0-c962-2b201bc52c4b"
      },
      "outputs": [
        {
          "output_type": "display_data",
          "data": {
            "text/plain": [
              "<IPython.core.display.HTML object>"
            ],
            "text/html": [
              "\n",
              "     <input type=\"file\" id=\"files-4701a469-594a-4967-9194-40ab9f91e140\" name=\"files[]\" multiple disabled\n",
              "        style=\"border:none\" />\n",
              "     <output id=\"result-4701a469-594a-4967-9194-40ab9f91e140\">\n",
              "      Upload widget is only available when the cell has been executed in the\n",
              "      current browser session. Please rerun this cell to enable.\n",
              "      </output>\n",
              "      <script>// Copyright 2017 Google LLC\n",
              "//\n",
              "// Licensed under the Apache License, Version 2.0 (the \"License\");\n",
              "// you may not use this file except in compliance with the License.\n",
              "// You may obtain a copy of the License at\n",
              "//\n",
              "//      http://www.apache.org/licenses/LICENSE-2.0\n",
              "//\n",
              "// Unless required by applicable law or agreed to in writing, software\n",
              "// distributed under the License is distributed on an \"AS IS\" BASIS,\n",
              "// WITHOUT WARRANTIES OR CONDITIONS OF ANY KIND, either express or implied.\n",
              "// See the License for the specific language governing permissions and\n",
              "// limitations under the License.\n",
              "\n",
              "/**\n",
              " * @fileoverview Helpers for google.colab Python module.\n",
              " */\n",
              "(function(scope) {\n",
              "function span(text, styleAttributes = {}) {\n",
              "  const element = document.createElement('span');\n",
              "  element.textContent = text;\n",
              "  for (const key of Object.keys(styleAttributes)) {\n",
              "    element.style[key] = styleAttributes[key];\n",
              "  }\n",
              "  return element;\n",
              "}\n",
              "\n",
              "// Max number of bytes which will be uploaded at a time.\n",
              "const MAX_PAYLOAD_SIZE = 100 * 1024;\n",
              "\n",
              "function _uploadFiles(inputId, outputId) {\n",
              "  const steps = uploadFilesStep(inputId, outputId);\n",
              "  const outputElement = document.getElementById(outputId);\n",
              "  // Cache steps on the outputElement to make it available for the next call\n",
              "  // to uploadFilesContinue from Python.\n",
              "  outputElement.steps = steps;\n",
              "\n",
              "  return _uploadFilesContinue(outputId);\n",
              "}\n",
              "\n",
              "// This is roughly an async generator (not supported in the browser yet),\n",
              "// where there are multiple asynchronous steps and the Python side is going\n",
              "// to poll for completion of each step.\n",
              "// This uses a Promise to block the python side on completion of each step,\n",
              "// then passes the result of the previous step as the input to the next step.\n",
              "function _uploadFilesContinue(outputId) {\n",
              "  const outputElement = document.getElementById(outputId);\n",
              "  const steps = outputElement.steps;\n",
              "\n",
              "  const next = steps.next(outputElement.lastPromiseValue);\n",
              "  return Promise.resolve(next.value.promise).then((value) => {\n",
              "    // Cache the last promise value to make it available to the next\n",
              "    // step of the generator.\n",
              "    outputElement.lastPromiseValue = value;\n",
              "    return next.value.response;\n",
              "  });\n",
              "}\n",
              "\n",
              "/**\n",
              " * Generator function which is called between each async step of the upload\n",
              " * process.\n",
              " * @param {string} inputId Element ID of the input file picker element.\n",
              " * @param {string} outputId Element ID of the output display.\n",
              " * @return {!Iterable<!Object>} Iterable of next steps.\n",
              " */\n",
              "function* uploadFilesStep(inputId, outputId) {\n",
              "  const inputElement = document.getElementById(inputId);\n",
              "  inputElement.disabled = false;\n",
              "\n",
              "  const outputElement = document.getElementById(outputId);\n",
              "  outputElement.innerHTML = '';\n",
              "\n",
              "  const pickedPromise = new Promise((resolve) => {\n",
              "    inputElement.addEventListener('change', (e) => {\n",
              "      resolve(e.target.files);\n",
              "    });\n",
              "  });\n",
              "\n",
              "  const cancel = document.createElement('button');\n",
              "  inputElement.parentElement.appendChild(cancel);\n",
              "  cancel.textContent = 'Cancel upload';\n",
              "  const cancelPromise = new Promise((resolve) => {\n",
              "    cancel.onclick = () => {\n",
              "      resolve(null);\n",
              "    };\n",
              "  });\n",
              "\n",
              "  // Wait for the user to pick the files.\n",
              "  const files = yield {\n",
              "    promise: Promise.race([pickedPromise, cancelPromise]),\n",
              "    response: {\n",
              "      action: 'starting',\n",
              "    }\n",
              "  };\n",
              "\n",
              "  cancel.remove();\n",
              "\n",
              "  // Disable the input element since further picks are not allowed.\n",
              "  inputElement.disabled = true;\n",
              "\n",
              "  if (!files) {\n",
              "    return {\n",
              "      response: {\n",
              "        action: 'complete',\n",
              "      }\n",
              "    };\n",
              "  }\n",
              "\n",
              "  for (const file of files) {\n",
              "    const li = document.createElement('li');\n",
              "    li.append(span(file.name, {fontWeight: 'bold'}));\n",
              "    li.append(span(\n",
              "        `(${file.type || 'n/a'}) - ${file.size} bytes, ` +\n",
              "        `last modified: ${\n",
              "            file.lastModifiedDate ? file.lastModifiedDate.toLocaleDateString() :\n",
              "                                    'n/a'} - `));\n",
              "    const percent = span('0% done');\n",
              "    li.appendChild(percent);\n",
              "\n",
              "    outputElement.appendChild(li);\n",
              "\n",
              "    const fileDataPromise = new Promise((resolve) => {\n",
              "      const reader = new FileReader();\n",
              "      reader.onload = (e) => {\n",
              "        resolve(e.target.result);\n",
              "      };\n",
              "      reader.readAsArrayBuffer(file);\n",
              "    });\n",
              "    // Wait for the data to be ready.\n",
              "    let fileData = yield {\n",
              "      promise: fileDataPromise,\n",
              "      response: {\n",
              "        action: 'continue',\n",
              "      }\n",
              "    };\n",
              "\n",
              "    // Use a chunked sending to avoid message size limits. See b/62115660.\n",
              "    let position = 0;\n",
              "    do {\n",
              "      const length = Math.min(fileData.byteLength - position, MAX_PAYLOAD_SIZE);\n",
              "      const chunk = new Uint8Array(fileData, position, length);\n",
              "      position += length;\n",
              "\n",
              "      const base64 = btoa(String.fromCharCode.apply(null, chunk));\n",
              "      yield {\n",
              "        response: {\n",
              "          action: 'append',\n",
              "          file: file.name,\n",
              "          data: base64,\n",
              "        },\n",
              "      };\n",
              "\n",
              "      let percentDone = fileData.byteLength === 0 ?\n",
              "          100 :\n",
              "          Math.round((position / fileData.byteLength) * 100);\n",
              "      percent.textContent = `${percentDone}% done`;\n",
              "\n",
              "    } while (position < fileData.byteLength);\n",
              "  }\n",
              "\n",
              "  // All done.\n",
              "  yield {\n",
              "    response: {\n",
              "      action: 'complete',\n",
              "    }\n",
              "  };\n",
              "}\n",
              "\n",
              "scope.google = scope.google || {};\n",
              "scope.google.colab = scope.google.colab || {};\n",
              "scope.google.colab._files = {\n",
              "  _uploadFiles,\n",
              "  _uploadFilesContinue,\n",
              "};\n",
              "})(self);\n",
              "</script> "
            ]
          },
          "metadata": {}
        },
        {
          "output_type": "stream",
          "name": "stdout",
          "text": [
            "Saving Mumbai Real Estate.csv to Mumbai Real Estate.csv\n"
          ]
        },
        {
          "output_type": "stream",
          "name": "stderr",
          "text": [
            "/tmp/ipython-input-1-1214791755.py:8: DtypeWarning: Columns (39) have mixed types. Specify dtype option on import or set low_memory=False.\n",
            "  df = pd.read_csv(file_name)\n"
          ]
        }
      ],
      "source": [
        "import pandas as pd\n",
        "import numpy as np\n",
        "from google.colab import files\n",
        "\n",
        "# Upload and Load Data\n",
        "uploaded = files.upload()\n",
        "file_name = list(uploaded.keys())[0]\n",
        "df = pd.read_csv(file_name)"
      ]
    },
    {
      "cell_type": "code",
      "source": [
        "# Shape and first 5 rows\n",
        "print(f\"Shape: {df.shape}\")\n",
        "print(df.head())\n",
        "\n",
        "# Data types\n",
        "print(\"\\n=== Data Types ===\")\n",
        "print(df.dtypes)\n",
        "\n",
        "# Missing values\n",
        "print(\"\\n=== Missing Values ===\")\n",
        "print(df.isnull().sum())\n",
        "\n",
        "# Descriptive statistics\n",
        "print(\"\\n=== Descriptive Statistics ===\")\n",
        "print(df.describe(include='all'))"
      ],
      "metadata": {
        "colab": {
          "base_uri": "https://localhost:8080/"
        },
        "id": "XhbACvVIVmgp",
        "outputId": "d04451b7-0028-4df4-b28f-a409acdb428f"
      },
      "execution_count": 2,
      "outputs": [
        {
          "output_type": "stream",
          "name": "stdout",
          "text": [
            "Shape: (12685, 145)\n",
            "      ID   Possession Status Availability Starts From Floor No Commercial  \\\n",
            "0  12685  Under Construction                  Dec '25        5          N   \n",
            "1  12684       Ready to Move                      NaN       20          Y   \n",
            "2  12683       Ready to Move                      NaN       18          N   \n",
            "3  12682  Under Construction                  Dec '25        5          N   \n",
            "4  12681  Under Construction                  Dec '24        8          Y   \n",
            "\n",
            "                               Developer Approved Authority Name  \\\n",
            "0                                    NaN                    KDMC   \n",
            "1  TATA Housing Development Company Ltd.                     TMC   \n",
            "2                  Sai Satyam Developers                    KDMC   \n",
            "3                          Birla Estates                    KDMC   \n",
            "4                      Godrej Properties                     NaN   \n",
            "\n",
            "   Units Available      Price Price (English)  ... Rentable CommuniPfty Space  \\\n",
            "0              1.0  3150000.0        31.5 Lac  ...                          1   \n",
            "1             10.0  6300000.0          63 Lac  ...                          1   \n",
            "2              0.0  5400000.0          54 Lac  ...                          1   \n",
            "3             70.0  9000000.0          90 Lac  ...                          1   \n",
            "4              NaN  4950000.0        49.5 Lac  ...                          1   \n",
            "\n",
            "  Retail Boulevard (Retail Shops) Cycling & Jogging Track  \\\n",
            "0                               1                       1   \n",
            "1                               1                       1   \n",
            "2                               1                       1   \n",
            "3                               1                       1   \n",
            "4                               1                       1   \n",
            "\n",
            "   Fire Fighting Equipment  Aesthetically designed landscape garden  \\\n",
            "0                        1                                        1   \n",
            "1                        1                                        1   \n",
            "2                        1                                        1   \n",
            "3                        1                                        1   \n",
            "4                        1                                        1   \n",
            "\n",
            "  Possession By  NRI Pref Land Area / Covered Area  Land Area Unit  \\\n",
            "0           NaN       NaN                      NaN             NaN   \n",
            "1           NaN       NaN                      NaN             NaN   \n",
            "2           NaN         Y                      NaN             NaN   \n",
            "3           NaN       NaN                      NaN             NaN   \n",
            "4           NaN       NaN                      NaN             NaN   \n",
            "\n",
            "   Pantry Type  \n",
            "0          NaN  \n",
            "1          NaN  \n",
            "2          NaN  \n",
            "3          NaN  \n",
            "4          NaN  \n",
            "\n",
            "[5 rows x 145 columns]\n",
            "\n",
            "=== Data Types ===\n",
            "ID                            int64\n",
            "Possession Status            object\n",
            "Availability Starts From     object\n",
            "Floor No                     object\n",
            "Commercial                   object\n",
            "                             ...   \n",
            "Possession By                object\n",
            "NRI Pref                     object\n",
            "Land Area / Covered Area    float64\n",
            "Land Area Unit              float64\n",
            "Pantry Type                  object\n",
            "Length: 145, dtype: object\n",
            "\n",
            "=== Missing Values ===\n",
            "ID                              0\n",
            "Possession Status              78\n",
            "Availability Starts From     9602\n",
            "Floor No                      858\n",
            "Commercial                      0\n",
            "                            ...  \n",
            "Possession By               12449\n",
            "NRI Pref                    10668\n",
            "Land Area / Covered Area    12601\n",
            "Land Area Unit              12599\n",
            "Pantry Type                 12620\n",
            "Length: 145, dtype: int64\n",
            "\n",
            "=== Descriptive Statistics ===\n",
            "                  ID Possession Status Availability Starts From Floor No  \\\n",
            "count   12685.000000             12607                     3083    11827   \n",
            "unique           NaN                21                      103       70   \n",
            "top              NaN     Ready to Move                  Dec '25        3   \n",
            "freq             NaN              9735                      488     1004   \n",
            "mean     6343.000000               NaN                      NaN      NaN   \n",
            "std      3661.988417               NaN                      NaN      NaN   \n",
            "min         1.000000               NaN                      NaN      NaN   \n",
            "25%      3172.000000               NaN                      NaN      NaN   \n",
            "50%      6343.000000               NaN                      NaN      NaN   \n",
            "75%      9514.000000               NaN                      NaN      NaN   \n",
            "max     12685.000000               NaN                      NaN      NaN   \n",
            "\n",
            "       Commercial Developer Approved Authority Name  Units Available  \\\n",
            "count       12685      7006                    6143      6135.000000   \n",
            "unique          2       942                      16              NaN   \n",
            "top             N     Lodha                    MCGM              NaN   \n",
            "freq        10996       651                    2872              NaN   \n",
            "mean          NaN       NaN                     NaN         7.751589   \n",
            "std           NaN       NaN                     NaN        26.335448   \n",
            "min           NaN       NaN                     NaN         0.000000   \n",
            "25%           NaN       NaN                     NaN         0.000000   \n",
            "50%           NaN       NaN                     NaN         1.000000   \n",
            "75%           NaN       NaN                     NaN         5.000000   \n",
            "max           NaN       NaN                     NaN       750.000000   \n",
            "\n",
            "               Price Price (English)  ... Rentable CommuniPfty Space  \\\n",
            "count   1.260100e+04           12685  ...               12685.000000   \n",
            "unique           NaN             967  ...                        NaN   \n",
            "top              NaN         1.10 Cr  ...                        NaN   \n",
            "freq             NaN             184  ...                        NaN   \n",
            "mean    2.640261e+07             NaN  ...                   0.536855   \n",
            "std     3.653648e+08             NaN  ...                   0.498660   \n",
            "min     1.000000e+05             NaN  ...                   0.000000   \n",
            "25%     7.000000e+06             NaN  ...                   0.000000   \n",
            "50%     1.350000e+07             NaN  ...                   1.000000   \n",
            "75%     2.550000e+07             NaN  ...                   1.000000   \n",
            "max     4.080000e+10             NaN  ...                   1.000000   \n",
            "\n",
            "       Retail Boulevard (Retail Shops) Cycling & Jogging Track  \\\n",
            "count                     12685.000000            12685.000000   \n",
            "unique                             NaN                     NaN   \n",
            "top                                NaN                     NaN   \n",
            "freq                               NaN                     NaN   \n",
            "mean                          0.537958                0.540166   \n",
            "std                           0.498577                0.498404   \n",
            "min                           0.000000                0.000000   \n",
            "25%                           0.000000                0.000000   \n",
            "50%                           1.000000                1.000000   \n",
            "75%                           1.000000                1.000000   \n",
            "max                           1.000000                1.000000   \n",
            "\n",
            "        Fire Fighting Equipment  Aesthetically designed landscape garden  \\\n",
            "count              12685.000000                             12685.000000   \n",
            "unique                      NaN                                      NaN   \n",
            "top                         NaN                                      NaN   \n",
            "freq                        NaN                                      NaN   \n",
            "mean                   0.544028                                 0.536382   \n",
            "std                    0.498077                                 0.498694   \n",
            "min                    0.000000                                 0.000000   \n",
            "25%                    0.000000                                 0.000000   \n",
            "50%                    1.000000                                 1.000000   \n",
            "75%                    1.000000                                 1.000000   \n",
            "max                    1.000000                                 1.000000   \n",
            "\n",
            "       Possession By  NRI Pref Land Area / Covered Area  Land Area Unit  \\\n",
            "count            236      2017                84.000000       86.000000   \n",
            "unique            17         1                      NaN             NaN   \n",
            "top          Dec '26         Y                      NaN             NaN   \n",
            "freq              50      2017                      NaN             NaN   \n",
            "mean             NaN       NaN              7248.869048    12847.825581   \n",
            "std              NaN       NaN             18240.893916       10.643078   \n",
            "min              NaN       NaN                 1.000000    12800.000000   \n",
            "25%              NaN       NaN               792.500000    12850.000000   \n",
            "50%              NaN       NaN              2000.000000    12850.000000   \n",
            "75%              NaN       NaN              3392.500000    12850.000000   \n",
            "max              NaN       NaN            100000.000000    12853.000000   \n",
            "\n",
            "                      Pantry Type  \n",
            "count                          65  \n",
            "unique                          1  \n",
            "top     Personal Pantry/Cafeteria  \n",
            "freq                           65  \n",
            "mean                          NaN  \n",
            "std                           NaN  \n",
            "min                           NaN  \n",
            "25%                           NaN  \n",
            "50%                           NaN  \n",
            "75%                           NaN  \n",
            "max                           NaN  \n",
            "\n",
            "[11 rows x 145 columns]\n"
          ]
        }
      ]
    },
    {
      "cell_type": "code",
      "source": [
        "\n",
        "# Initial Data Inspection\n",
        "print(\"\\nMissing Values Summary:\")\n",
        "missing_percent = df.isnull().sum().sort_values(ascending=False)/len(df)*100\n",
        "print(missing_percent[missing_percent > 0].head(10))\n",
        "# Column Selection and Removal\n",
        "cols_to_drop = [col for col in df.columns\n",
        "               if (missing_percent[col] > 90) or (df[col].nunique() == 1)]\n",
        "df = df.drop(columns=cols_to_drop)\n"
      ],
      "metadata": {
        "colab": {
          "base_uri": "https://localhost:8080/"
        },
        "id": "4tzvL7uEWMmk",
        "outputId": "099f040e-af47-4897-d36e-9c7eb7a77f1e"
      },
      "execution_count": 10,
      "outputs": [
        {
          "output_type": "stream",
          "name": "stdout",
          "text": [
            "\n",
            "Missing Values Summary:\n",
            "Series([], dtype: float64)\n"
          ]
        }
      ]
    },
    {
      "cell_type": "code",
      "source": [
        "print(f\"\\nShape after dropping columns: {df.shape}\")\n"
      ],
      "metadata": {
        "colab": {
          "base_uri": "https://localhost:8080/"
        },
        "id": "5dtFZWs6WMpM",
        "outputId": "7d120acf-1bed-43ac-ad56-be442e3de3de"
      },
      "execution_count": 5,
      "outputs": [
        {
          "output_type": "stream",
          "name": "stdout",
          "text": [
            "\n",
            "Shape after dropping columns: (12685, 137)\n"
          ]
        }
      ]
    },
    {
      "cell_type": "code",
      "source": [
        "cat_cols = df.select_dtypes(include=['object']).columns\n",
        "for col in cat_cols:\n",
        "    if df[col].isnull().sum() > 0:\n",
        "        df[col] = df[col].fillna('Not Specified')"
      ],
      "metadata": {
        "id": "w1sUOaz9WMr0"
      },
      "execution_count": 6,
      "outputs": []
    },
    {
      "cell_type": "code",
      "source": [
        "# Fill numeric columns\n",
        "num_cols = df.select_dtypes(include=['int64','float64']).columns\n",
        "for col in num_cols:\n",
        "    if df[col].isnull().sum() > 0:\n",
        "        df[col] = df[col].fillna(df[col].median())"
      ],
      "metadata": {
        "id": "4Vvz6HJQWMu4"
      },
      "execution_count": 7,
      "outputs": []
    },
    {
      "cell_type": "code",
      "source": [
        "df['Price'] = df['Price'].replace('[^0-9.]', '', regex=True).astype(float)"
      ],
      "metadata": {
        "id": "4JXlweKAWMx4"
      },
      "execution_count": 8,
      "outputs": []
    },
    {
      "cell_type": "code",
      "source": [
        "price_q1, price_q3 = df['Price'].quantile([0.25, 0.75])\n",
        "price_iqr = price_q3 - price_q1\n",
        "df = df[(df['Price'] > (price_q1 - 1.5*price_iqr)) &\n",
        "        (df['Price'] < (price_q3 + 1.5*price_iqr))]"
      ],
      "metadata": {
        "id": "lBxezkutWM0b"
      },
      "execution_count": 9,
      "outputs": []
    },
    {
      "cell_type": "code",
      "source": [
        "status_map = {'Ready to Move': 'Ready', 'Under Construction': 'Under Construction',\n",
        "              'Ready To Move': 'Ready', 'Rtm': 'Ready'}\n",
        "df['Possession Status'] = df['Possession Status'].map(status_map).fillna('Not Specified')"
      ],
      "metadata": {
        "id": "4FZvlVeGWM22"
      },
      "execution_count": 11,
      "outputs": []
    },
    {
      "cell_type": "code",
      "source": [
        "binary_cols = ['Commercial', 'Retail Boulevard (Retail Shops)',\n",
        "               'Cycling & Jogging Track', 'Fire Fighting Equipment']\n",
        "for col in binary_cols:\n",
        "    if col in df.columns:\n",
        "        df[col] = df[col].map({'Y': 1, 'N': 0, 'Yes': 1, 'No': 0}).fillna(0)\n"
      ],
      "metadata": {
        "id": "DjEhWfcsWM5c"
      },
      "execution_count": 12,
      "outputs": []
    },
    {
      "cell_type": "code",
      "source": [
        "df['Year Available'] = pd.to_datetime(df['Availability Starts From'],\n",
        "                                     format=\"%b '%y\", errors='coerce').dt.year"
      ],
      "metadata": {
        "id": "qcpIHNnaWM71"
      },
      "execution_count": 13,
      "outputs": []
    },
    {
      "cell_type": "code",
      "source": [
        "if 'Units Available' in df.columns and 'Price' in df.columns:\n",
        "    df['Price Per Unit'] = df['Price'] / df['Units Available'].replace(0, 1)"
      ],
      "metadata": {
        "id": "Um92pb8qWM_q"
      },
      "execution_count": 14,
      "outputs": []
    },
    {
      "cell_type": "code",
      "source": [
        "print(\"\\nMissing Values After Cleaning:\")\n",
        "print(df.isnull().sum().sum())\n",
        "\n",
        "print(\"\\nFinal Data Types:\")\n",
        "print(df.dtypes.value_counts())"
      ],
      "metadata": {
        "colab": {
          "base_uri": "https://localhost:8080/"
        },
        "id": "cTiEx1fUYbve",
        "outputId": "c0342bc0-1b03-4bcc-dc5a-710b56325141"
      },
      "execution_count": 15,
      "outputs": [
        {
          "output_type": "stream",
          "name": "stdout",
          "text": [
            "\n",
            "Missing Values After Cleaning:\n",
            "8644\n",
            "\n",
            "Final Data Types:\n",
            "int64      90\n",
            "object     34\n",
            "float64    15\n",
            "Name: count, dtype: int64\n"
          ]
        }
      ]
    },
    {
      "cell_type": "code",
      "source": [
        "# Save Cleaned Data\n",
        "clean_file = 'cleaned_real_estate_data.csv'\n",
        "df.to_csv(clean_file, index=False)\n",
        "files.download(clean_file)\n"
      ],
      "metadata": {
        "colab": {
          "base_uri": "https://localhost:8080/",
          "height": 17
        },
        "id": "m7KL3MvdYbzA",
        "outputId": "7cc74141-497d-4c3f-813a-c6d9d467bdd5"
      },
      "execution_count": 16,
      "outputs": [
        {
          "output_type": "display_data",
          "data": {
            "text/plain": [
              "<IPython.core.display.Javascript object>"
            ],
            "application/javascript": [
              "\n",
              "    async function download(id, filename, size) {\n",
              "      if (!google.colab.kernel.accessAllowed) {\n",
              "        return;\n",
              "      }\n",
              "      const div = document.createElement('div');\n",
              "      const label = document.createElement('label');\n",
              "      label.textContent = `Downloading \"${filename}\": `;\n",
              "      div.appendChild(label);\n",
              "      const progress = document.createElement('progress');\n",
              "      progress.max = size;\n",
              "      div.appendChild(progress);\n",
              "      document.body.appendChild(div);\n",
              "\n",
              "      const buffers = [];\n",
              "      let downloaded = 0;\n",
              "\n",
              "      const channel = await google.colab.kernel.comms.open(id);\n",
              "      // Send a message to notify the kernel that we're ready.\n",
              "      channel.send({})\n",
              "\n",
              "      for await (const message of channel.messages) {\n",
              "        // Send a message to notify the kernel that we're ready.\n",
              "        channel.send({})\n",
              "        if (message.buffers) {\n",
              "          for (const buffer of message.buffers) {\n",
              "            buffers.push(buffer);\n",
              "            downloaded += buffer.byteLength;\n",
              "            progress.value = downloaded;\n",
              "          }\n",
              "        }\n",
              "      }\n",
              "      const blob = new Blob(buffers, {type: 'application/binary'});\n",
              "      const a = document.createElement('a');\n",
              "      a.href = window.URL.createObjectURL(blob);\n",
              "      a.download = filename;\n",
              "      div.appendChild(a);\n",
              "      a.click();\n",
              "      div.remove();\n",
              "    }\n",
              "  "
            ]
          },
          "metadata": {}
        },
        {
          "output_type": "display_data",
          "data": {
            "text/plain": [
              "<IPython.core.display.Javascript object>"
            ],
            "application/javascript": [
              "download(\"download_d23c27dd-d502-4608-b3bc-206aadbf7c62\", \"cleaned_real_estate_data.csv\", 7767651)"
            ]
          },
          "metadata": {}
        }
      ]
    }
  ]
}